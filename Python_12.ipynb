{
  "nbformat": 4,
  "nbformat_minor": 0,
  "metadata": {
    "colab": {
      "name": "Python 12.ipynb",
      "provenance": [],
      "collapsed_sections": [],
      "include_colab_link": true
    },
    "kernelspec": {
      "name": "python3",
      "display_name": "Python 3"
    }
  },
  "cells": [
    {
      "cell_type": "markdown",
      "metadata": {
        "id": "view-in-github",
        "colab_type": "text"
      },
      "source": [
        "<a href=\"https://colab.research.google.com/github/ameliampas/Pemograman_Python/blob/main/Python_12.ipynb\" target=\"_parent\"><img src=\"https://colab.research.google.com/assets/colab-badge.svg\" alt=\"Open In Colab\"/></a>"
      ]
    },
    {
      "cell_type": "code",
      "metadata": {
        "id": "cArqS-NGmIQG"
      },
      "source": [
        "import numpy as np"
      ],
      "execution_count": 1,
      "outputs": []
    },
    {
      "cell_type": "code",
      "metadata": {
        "id": "-1zDdPSLS8nX"
      },
      "source": [
        "mc=10**3 #kilometer to meter\r\n",
        "hc = 10**6 #megahz to hz"
      ],
      "execution_count": 2,
      "outputs": []
    },
    {
      "cell_type": "code",
      "metadata": {
        "id": "ar06hz568tOg"
      },
      "source": [
        "def cost(s,f,type,Ht,Hr):\r\n",
        "  fc=f*hc\r\n",
        "  d=s*mc\r\n",
        "  if (1500<=f<=2000):\r\n",
        "    C1=46.3\r\n",
        "    C2=33.9\r\n",
        "  elif (400<=f<=1500):\r\n",
        "    C1=69.55\r\n",
        "    C2=26.16\r\n",
        "  if type=='urban':\r\n",
        "    Cm=0\r\n",
        "  elif type=='suburban' :\r\n",
        "    Cm=(-2*((np.log10(fc/28))**2))-(5.4)\r\n",
        "  elif type=='open':\r\n",
        "    Cm=(-4.78*(np.log10(fc))**2)+18\r\n",
        "  a=((((1.1*np.log10(fc))-(0.7))*Hr)-((1.56*np.log10(fc))-(0.8)))\r\n",
        "  lp=C1+(C2*np.log10(fc))-(13.83*np.log10(Ht))-a+(44.9-(6.55*np.log10(Ht)))*np.log10(d)+Cm\r\n",
        "  return lp"
      ],
      "execution_count": 3,
      "outputs": []
    },
    {
      "cell_type": "code",
      "metadata": {
        "colab": {
          "base_uri": "https://localhost:8080/"
        },
        "id": "bqVgTmeHQgqc",
        "outputId": "38fc40ab-c5c9-4292-8a5e-3da0bb775fa4"
      },
      "source": [
        "#memasukan nilai\r\n",
        "Jarak = 10              #dalam km\r\n",
        "Frekuensi = 1000         #dalam MHz\r\n",
        "Tipe = \"urban\"       #Pilihan tipe area(urban/suburban/Open)\r\n",
        "Tpem = 100              #Tinggi Pemancar (meter)\r\n",
        "Tpen = 10               #Tinggi penerima (meter)\r\n",
        "\r\n",
        "n=cost(Jarak,Frekuensi,Tipe,Tpem,Tpen)\r\n",
        "print ('Nilai Pathloss COST 231 adalah',n,'dB')"
      ],
      "execution_count": 4,
      "outputs": [
        {
          "output_type": "stream",
          "text": [
            "Nilai Pathloss COST 231 adalah 325.77 dB\n"
          ],
          "name": "stdout"
        }
      ]
    },
    {
      "cell_type": "code",
      "metadata": {
        "id": "B-_8EXs5i4bS"
      },
      "source": [
        ""
      ],
      "execution_count": null,
      "outputs": []
    }
  ]
}